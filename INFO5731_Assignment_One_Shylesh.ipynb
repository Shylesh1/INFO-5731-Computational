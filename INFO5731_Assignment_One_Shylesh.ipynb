{
  "cells": [
    {
      "cell_type": "markdown",
      "metadata": {
        "id": "view-in-github"
      },
      "source": [
        "<a href=\"https://colab.research.google.com/github/unt-iialab/INFO5731_Spring2020/blob/master/Assignments/INFO5731_Assignment_One.ipynb\" target=\"_parent\"><img src=\"https://colab.research.google.com/assets/colab-badge.svg\" alt=\"Open In Colab\"/></a>"
      ]
    },
    {
      "cell_type": "markdown",
      "metadata": {
        "id": "Ryk8D1Q4Wsrp"
      },
      "source": [
        "# **INFO5731 Assignment One**"
      ]
    },
    {
      "cell_type": "markdown",
      "metadata": {
        "id": "90_NR8c5XGWc"
      },
      "source": [
        "# Question 1\n",
        "\n",
        "(20 points). Write a Python program to generate 12 random numbers between 1 and 100. Sort the list of numbers in ascending order and print it out. Sort the list of numbers in descending order and print it out. Calculate the average for the group and print it out."
      ]
    },
    {
      "cell_type": "code",
      "execution_count": 5,
      "metadata": {
        "colab": {
          "base_uri": "https://localhost:8080/"
        },
        "id": "5QX6bJjGWXY9",
        "outputId": "eaa4a4c9-4771-4eb2-f2b9-3109f5e0ef4a"
      },
      "outputs": [
        {
          "output_type": "stream",
          "name": "stdout",
          "text": [
            "Random List : [49, 67, 32, 16, 1, 3, 54, 83, 39, 52, 74, 86]\n",
            "Ascending Order List : [1, 3, 16, 32, 39, 49, 52, 54, 67, 74, 83, 86]\n",
            "Decending Order List : [86, 83, 74, 67, 54, 52, 49, 39, 32, 16, 3, 1]\n",
            "Average for List :\n",
            " 46.333333333333336\n"
          ]
        }
      ],
      "source": [
        "# Your code here\n",
        "\n",
        "import random\n",
        "def Average(lst):\n",
        "    return sum(lst) / len(lst)\n",
        "randomlist1 = random.sample(range(1, 100), 12)\n",
        "print(\"Random List :\",randomlist1)\n",
        "\n",
        "#Ascending order\n",
        "randomlist1.sort()\n",
        "print(\"Ascending Order List :\",randomlist1)\n",
        "\n",
        "#DecendingOrder\n",
        "randomlist1.sort(reverse=True)\n",
        "\n",
        "print(\"Decending Order List :\",randomlist1)\n",
        "print(\"Average for List :\\n\",Average(randomlist1))"
      ]
    },
    {
      "cell_type": "markdown",
      "metadata": {
        "id": "1F_PZdH9Sh49"
      },
      "source": [
        "# Question 2\n",
        "(25 points). Write a program that will do the following string formatting tasks:\n",
        "\n",
        "(1) Ask the user to enter two sentences.\n",
        "\n",
        "(2) Make each sentence into a list. Each element in the list should correspond to a word in the sentence. For example, if the sentence is \"Alas! Am I alive? This is my first python program\", the program should print out ['Alas, '!', 'Am', 'I', 'alive, '?', 'This', 'is', 'my', 'first', 'python', 'program'].\n",
        "\n",
        "(3) Compare the two sentences. Print out a list of words that occur in both sentences.\n",
        "\n",
        "(4) Remove any punctuation from the sentence and print it back out. It should remove at least the following characters, but it can remove more: period(“.”), comma (“,”), semicolon (“;”), and colon (“:”)\n",
        "\n",
        "(5) Count the number of vowels in the sentences. Print out each vowel and the number of times it appears in the sentences, such as: a:2, e:1, i:0, etc"
      ]
    },
    {
      "cell_type": "code",
      "execution_count": 6,
      "metadata": {
        "id": "Y0oOSlsOS0cq",
        "colab": {
          "base_uri": "https://localhost:8080/"
        },
        "outputId": "f21a7f56-ca2d-44f3-86f1-819d4fa15f9e"
      },
      "outputs": [
        {
          "output_type": "stream",
          "name": "stdout",
          "text": [
            "Enter two sentences\n",
            "Enter the first sentence: My name is Shylesh\n",
            "Enter the second sentence: Your last name?\n",
            "['My', 'name', 'is', 'Shylesh']\n",
            "['Your', 'last', 'name', '?']\n"
          ]
        }
      ],
      "source": [
        "# Ask the user to enter two sentences and  Make each sentence into a list.\n",
        "import re\n",
        "\n",
        "print(\"Enter two sentences\")\n",
        "sentence_one = input(\"Enter the first sentence: \")\n",
        "sentence_two = input(\"Enter the second sentence: \")\n",
        "\n",
        "first_list= re.findall(r\"[\\w']+|[^\\w\\s]\", sentence_one)\n",
        "print (first_list)\n",
        "second_list= re.findall(r\"[\\w']+|[^\\w\\s]\", sentence_two)\n",
        "print (second_list)"
      ]
    },
    {
      "cell_type": "code",
      "source": [
        "#Compare the two sentences. Print out a list of words that occur in both sentences.\n",
        "\n",
        "common_terms = []\n",
        "for ele in second_list:\n",
        "  if ele in first_list:\n",
        "    common_terms.append(ele)\n",
        "print(common_terms)"
      ],
      "metadata": {
        "colab": {
          "base_uri": "https://localhost:8080/"
        },
        "id": "EFyNACCQNz2F",
        "outputId": "9b2c5e2f-a19a-47f0-a4bf-fcc43dc600b4"
      },
      "execution_count": 7,
      "outputs": [
        {
          "output_type": "stream",
          "name": "stdout",
          "text": [
            "['name']\n"
          ]
        }
      ]
    },
    {
      "cell_type": "code",
      "source": [
        "#Remove any punctuation from the sentence and print it back out.\n",
        "\n",
        "Punctuations = ''''!()-[]{};:'\"\\,<>./?@#$%^&*_~'''\n",
        "\n",
        "without_punctuation = \"\"\n",
        "for var_1 in sentence_one:\n",
        "  for char in var_1:\n",
        "    if char not in Punctuations:\n",
        "         without_punctuation = without_punctuation + char\n",
        "print(without_punctuation)\n",
        "\n",
        "without_punctuation_1 = \"\"\n",
        "for var_2 in sentence_two:\n",
        "  for char in var_2:\n",
        "    if char not in Punctuations:\n",
        "         without_punctuation_1 = without_punctuation_1 + char\n",
        "print(without_punctuation_1)"
      ],
      "metadata": {
        "colab": {
          "base_uri": "https://localhost:8080/"
        },
        "id": "hdPUWhnwOI87",
        "outputId": "1d238bfe-4066-4517-99ca-a0a861213981"
      },
      "execution_count": 8,
      "outputs": [
        {
          "output_type": "stream",
          "name": "stdout",
          "text": [
            "My name is Shylesh\n",
            "Your last name\n"
          ]
        }
      ]
    },
    {
      "cell_type": "code",
      "source": [
        "#Count the number of vowels in the sentences\n",
        "\n",
        "vowels = 'aeiou'\n",
        "count_vowels = {}.fromkeys(vowels,0)\n",
        "\n",
        "for var_one in sentence_one:\n",
        "  for char in var_one:\n",
        "     if char in count_vowels:\n",
        "         count_vowels[char] += 1\n",
        "print(count_vowels)\n",
        "\n",
        "for var_two in sentence_two:\n",
        "  for char in var_two:\n",
        "     if char in count_vowels:\n",
        "         count_vowels[char] += 1\n",
        "print(count_vowels)"
      ],
      "metadata": {
        "colab": {
          "base_uri": "https://localhost:8080/"
        },
        "id": "WRwmG-EGOv45",
        "outputId": "038c89bd-4d77-427b-996a-68d745cbab32"
      },
      "execution_count": 9,
      "outputs": [
        {
          "output_type": "stream",
          "name": "stdout",
          "text": [
            "{'a': 1, 'e': 2, 'i': 1, 'o': 0, 'u': 0}\n",
            "{'a': 3, 'e': 3, 'i': 1, 'o': 1, 'u': 1}\n"
          ]
        }
      ]
    },
    {
      "cell_type": "markdown",
      "metadata": {
        "id": "CmFoI4jDS9nx"
      },
      "source": [
        "# Question 3 \n",
        "\n",
        "(15 points). The formula that describes the volume V of a sphere with radius r is the following:\n",
        "\n",
        "$ V=\\frac{4}{3}\\ast\\ \\pi\\ast\\ r^3 $\n",
        "\n",
        "Write a program to calculate the value of V when r is in the range of 1–10. Output the result in the following format:\n",
        "\n",
        "\tr\tV\n",
        "\t1\t…\n",
        "\t2\t…\n",
        "\t3\t…\n"
      ]
    },
    {
      "cell_type": "code",
      "execution_count": 11,
      "metadata": {
        "id": "pEyqeioAT95b",
        "colab": {
          "base_uri": "https://localhost:8080/"
        },
        "outputId": "58a39854-9279-4708-9228-030312ca2642"
      },
      "outputs": [
        {
          "output_type": "stream",
          "name": "stdout",
          "text": [
            "rad   v\n",
            "0 0.0\n",
            "1 4.1887902047863905\n",
            "2 33.510321638291124\n",
            "3 113.09733552923254\n",
            "4 268.082573106329\n",
            "5 523.5987755982989\n",
            "6 904.7786842338603\n",
            "7 1436.7550402417319\n",
            "8 2144.660584850632\n",
            "9 3053.6280592892786\n"
          ]
        }
      ],
      "source": [
        "def volume_sphere(rad, pi = 3.1415926535897931):\n",
        "  return (4/3) * pi * (rad ** 3)\n",
        "\n",
        "print('rad   v')\n",
        "for a in range(10):\n",
        "  print (str(a) +\" \" +str(volume_sphere(a)))"
      ]
    },
    {
      "cell_type": "markdown",
      "metadata": {
        "id": "z3tBE7E-Xn5X"
      },
      "source": [
        "# Question 4\n",
        "\n",
        "(40 points). In the field of Data Science, data is often formatted as a comma-delimited (CSV) file, where each line in a file corresponds to a field's value. Refer to Chapter 9 (p. 106) for more information on comma-delimited files. To answer this question, you will need to download the file [Assignment1_denton_housing.csv](https://raw.githubusercontent.com/unt-iialab/info5731-spring2022/main/assignments/Assignment1_denton_housing.csv) included with this assignment. The file [Assignment1_denton_housing.csv](https://raw.githubusercontent.com/unt-iialab/info5731-spring2022/main/assignments/Assignment1_denton_housing.csv) contains statistics about housing in the city of Denton from 2008 to 2014. Write a program to implement the following questions.\n",
        "\n",
        "(1) (10 pts) Calculate the difference in the number of Occupied Housing Units from year to year and print it. The difference must be calculated for the consecutive years such as 2008-2009, 2009-2010 etc. Finally, print the values in the ascending order.\n",
        "\n",
        "(2) (10 pts) For all the years, calculate the percentage of housing units which are vacant an occupied. Print the results in the following format:\n",
        "\n",
        "Year Vacant Housing Units Occupied Housing Units\n",
        "\n",
        "    2008  30%   70%                          \n",
        "\t2009 ----- -----\n",
        "\t2010 ----- -----\n",
        "    2011 ----- -----\n",
        "\t2012 ----- -----\n",
        "    2013 ----- -----\n",
        "\t2014 ----- -----\n",
        "  \n",
        "  \n",
        "\n",
        "(3) (10 pts) Calculate and print the valued and years in which the highest number of housing units were vacant and occupied. Print the results in the following format:  \n",
        "\n",
        "                              Year\tValue\n",
        "\tVacant Housing Units\t  -----   -----\n",
        "\tOccupied Housing Units\t-----   -----\n",
        "\n",
        "(4) (10 pts) Calculate the harmonic mean of the total housing units and print it out. You can find the information about harmonic mean here: https://ncalculators.com/statistics/harmonic-mean-calculator.htm"
      ]
    },
    {
      "cell_type": "code",
      "execution_count": 17,
      "metadata": {
        "id": "lqGYuHBhcsRH",
        "colab": {
          "base_uri": "https://localhost:8080/"
        },
        "outputId": "73791580-a383-483b-b17a-3d0d2f4b1b97"
      },
      "outputs": [
        {
          "output_type": "execute_result",
          "data": {
            "text/plain": [
              "17    -795.0\n",
              "11    -303.0\n",
              "8     1404.0\n",
              "5     1565.0\n",
              "2     2622.0\n",
              "14    5091.0\n",
              "20       NaN\n",
              "Name: value, dtype: float64"
            ]
          },
          "metadata": {},
          "execution_count": 17
        }
      ],
      "source": [
        "import pandas \n",
        "import statistics\n",
        "denton_df = pd.read_csv('/content/sample_data/Assignment1_denton_housing.csv')\n",
        "opd_df = denton_df[denton_df['title_field'] == 'Occupied Housing Units'].sort_values(by=['year'])\n",
        "opd_df.value.diff().sort_values()\n"
      ]
    },
    {
      "cell_type": "code",
      "source": [
        "vacancy_list = denton_df[denton_df['title_field'] == 'Vacant Housing Units'].sort_values(by=['year'])['value']\n",
        "\n",
        "occupied_list= denton_df[denton_df['title_field'] == 'Occupied Housing Units'].sort_values(by=['year'])['value']\n",
        "\n",
        "total_list = denton_df[denton_df['title_field'] == 'Total Housing Units'].sort_values(by=['year'])['value']\n",
        "\n",
        "year = denton_df[denton_df['title_field'] == 'Total Housing Units'].sort_values(by=['year'])['year']\n",
        "Vacant = [str((vacant/total)*100)+' %' for vacant,total in zip(vacancy_list,total_list)]\n",
        "occupied = [str((occupied/total)*100)+' %' for occupied, total in zip(occupied_list, total_list)]\n",
        "results_df = pd.DataFrame(list(zip(year,Vacant, occupied)), columns =['Year','Vacant Housing Units', 'Occupied Housing Units'])\n",
        "results_df"
      ],
      "metadata": {
        "colab": {
          "base_uri": "https://localhost:8080/",
          "height": 269
        },
        "id": "oCrCRKHiQSV-",
        "outputId": "ccdd1ab9-c621-48e5-b8be-6a69e7dc1133"
      },
      "execution_count": 18,
      "outputs": [
        {
          "output_type": "execute_result",
          "data": {
            "text/plain": [
              "   Year Vacant Housing Units Occupied Housing Units\n",
              "0  2008  10.88265281351653 %    89.11734718648347 %\n",
              "1  2009   9.07111572444872 %    90.92888427555128 %\n",
              "2  2010  8.142556337081672 %    91.85744366291833 %\n",
              "3  2011  9.379522229890688 %     90.6204777701093 %\n",
              "4  2012  6.677600230491346 %    93.32239976950866 %\n",
              "5  2013  8.801787504176412 %    91.19821249582358 %\n",
              "6  2014  5.730110570363885 %    94.26988942963611 %"
            ],
            "text/html": [
              "\n",
              "  <div id=\"df-8906cb96-afcd-4d0b-97c7-f1c9c9894a22\">\n",
              "    <div class=\"colab-df-container\">\n",
              "      <div>\n",
              "<style scoped>\n",
              "    .dataframe tbody tr th:only-of-type {\n",
              "        vertical-align: middle;\n",
              "    }\n",
              "\n",
              "    .dataframe tbody tr th {\n",
              "        vertical-align: top;\n",
              "    }\n",
              "\n",
              "    .dataframe thead th {\n",
              "        text-align: right;\n",
              "    }\n",
              "</style>\n",
              "<table border=\"1\" class=\"dataframe\">\n",
              "  <thead>\n",
              "    <tr style=\"text-align: right;\">\n",
              "      <th></th>\n",
              "      <th>Year</th>\n",
              "      <th>Vacant Housing Units</th>\n",
              "      <th>Occupied Housing Units</th>\n",
              "    </tr>\n",
              "  </thead>\n",
              "  <tbody>\n",
              "    <tr>\n",
              "      <th>0</th>\n",
              "      <td>2008</td>\n",
              "      <td>10.88265281351653 %</td>\n",
              "      <td>89.11734718648347 %</td>\n",
              "    </tr>\n",
              "    <tr>\n",
              "      <th>1</th>\n",
              "      <td>2009</td>\n",
              "      <td>9.07111572444872 %</td>\n",
              "      <td>90.92888427555128 %</td>\n",
              "    </tr>\n",
              "    <tr>\n",
              "      <th>2</th>\n",
              "      <td>2010</td>\n",
              "      <td>8.142556337081672 %</td>\n",
              "      <td>91.85744366291833 %</td>\n",
              "    </tr>\n",
              "    <tr>\n",
              "      <th>3</th>\n",
              "      <td>2011</td>\n",
              "      <td>9.379522229890688 %</td>\n",
              "      <td>90.6204777701093 %</td>\n",
              "    </tr>\n",
              "    <tr>\n",
              "      <th>4</th>\n",
              "      <td>2012</td>\n",
              "      <td>6.677600230491346 %</td>\n",
              "      <td>93.32239976950866 %</td>\n",
              "    </tr>\n",
              "    <tr>\n",
              "      <th>5</th>\n",
              "      <td>2013</td>\n",
              "      <td>8.801787504176412 %</td>\n",
              "      <td>91.19821249582358 %</td>\n",
              "    </tr>\n",
              "    <tr>\n",
              "      <th>6</th>\n",
              "      <td>2014</td>\n",
              "      <td>5.730110570363885 %</td>\n",
              "      <td>94.26988942963611 %</td>\n",
              "    </tr>\n",
              "  </tbody>\n",
              "</table>\n",
              "</div>\n",
              "      <button class=\"colab-df-convert\" onclick=\"convertToInteractive('df-8906cb96-afcd-4d0b-97c7-f1c9c9894a22')\"\n",
              "              title=\"Convert this dataframe to an interactive table.\"\n",
              "              style=\"display:none;\">\n",
              "        \n",
              "  <svg xmlns=\"http://www.w3.org/2000/svg\" height=\"24px\"viewBox=\"0 0 24 24\"\n",
              "       width=\"24px\">\n",
              "    <path d=\"M0 0h24v24H0V0z\" fill=\"none\"/>\n",
              "    <path d=\"M18.56 5.44l.94 2.06.94-2.06 2.06-.94-2.06-.94-.94-2.06-.94 2.06-2.06.94zm-11 1L8.5 8.5l.94-2.06 2.06-.94-2.06-.94L8.5 2.5l-.94 2.06-2.06.94zm10 10l.94 2.06.94-2.06 2.06-.94-2.06-.94-.94-2.06-.94 2.06-2.06.94z\"/><path d=\"M17.41 7.96l-1.37-1.37c-.4-.4-.92-.59-1.43-.59-.52 0-1.04.2-1.43.59L10.3 9.45l-7.72 7.72c-.78.78-.78 2.05 0 2.83L4 21.41c.39.39.9.59 1.41.59.51 0 1.02-.2 1.41-.59l7.78-7.78 2.81-2.81c.8-.78.8-2.07 0-2.86zM5.41 20L4 18.59l7.72-7.72 1.47 1.35L5.41 20z\"/>\n",
              "  </svg>\n",
              "      </button>\n",
              "      \n",
              "  <style>\n",
              "    .colab-df-container {\n",
              "      display:flex;\n",
              "      flex-wrap:wrap;\n",
              "      gap: 12px;\n",
              "    }\n",
              "\n",
              "    .colab-df-convert {\n",
              "      background-color: #E8F0FE;\n",
              "      border: none;\n",
              "      border-radius: 50%;\n",
              "      cursor: pointer;\n",
              "      display: none;\n",
              "      fill: #1967D2;\n",
              "      height: 32px;\n",
              "      padding: 0 0 0 0;\n",
              "      width: 32px;\n",
              "    }\n",
              "\n",
              "    .colab-df-convert:hover {\n",
              "      background-color: #E2EBFA;\n",
              "      box-shadow: 0px 1px 2px rgba(60, 64, 67, 0.3), 0px 1px 3px 1px rgba(60, 64, 67, 0.15);\n",
              "      fill: #174EA6;\n",
              "    }\n",
              "\n",
              "    [theme=dark] .colab-df-convert {\n",
              "      background-color: #3B4455;\n",
              "      fill: #D2E3FC;\n",
              "    }\n",
              "\n",
              "    [theme=dark] .colab-df-convert:hover {\n",
              "      background-color: #434B5C;\n",
              "      box-shadow: 0px 1px 3px 1px rgba(0, 0, 0, 0.15);\n",
              "      filter: drop-shadow(0px 1px 2px rgba(0, 0, 0, 0.3));\n",
              "      fill: #FFFFFF;\n",
              "    }\n",
              "  </style>\n",
              "\n",
              "      <script>\n",
              "        const buttonEl =\n",
              "          document.querySelector('#df-8906cb96-afcd-4d0b-97c7-f1c9c9894a22 button.colab-df-convert');\n",
              "        buttonEl.style.display =\n",
              "          google.colab.kernel.accessAllowed ? 'block' : 'none';\n",
              "\n",
              "        async function convertToInteractive(key) {\n",
              "          const element = document.querySelector('#df-8906cb96-afcd-4d0b-97c7-f1c9c9894a22');\n",
              "          const dataTable =\n",
              "            await google.colab.kernel.invokeFunction('convertToInteractive',\n",
              "                                                     [key], {});\n",
              "          if (!dataTable) return;\n",
              "\n",
              "          const docLinkHtml = 'Like what you see? Visit the ' +\n",
              "            '<a target=\"_blank\" href=https://colab.research.google.com/notebooks/data_table.ipynb>data table notebook</a>'\n",
              "            + ' to learn more about interactive tables.';\n",
              "          element.innerHTML = '';\n",
              "          dataTable['output_type'] = 'display_data';\n",
              "          await google.colab.output.renderOutput(dataTable, element);\n",
              "          const docLink = document.createElement('div');\n",
              "          docLink.innerHTML = docLinkHtml;\n",
              "          element.appendChild(docLink);\n",
              "        }\n",
              "      </script>\n",
              "    </div>\n",
              "  </div>\n",
              "  "
            ]
          },
          "metadata": {},
          "execution_count": 18
        }
      ]
    },
    {
      "cell_type": "code",
      "source": [
        "vacant_df = denton_df[denton_df['title_field'] == 'Vacant Housing Units']\n",
        "Max_difference= pd.concat([opd_df[opd_df['value'] == opd_df['value'].max()],vacant_df[vacant_df['value'] == vacant_df['value'].max()]])\n",
        "print(Max_difference[['title_field','year','value']])"
      ],
      "metadata": {
        "colab": {
          "base_uri": "https://localhost:8080/"
        },
        "id": "4Ycaf-kxQ_0M",
        "outputId": "48f37cf5-4570-402f-e939-9664dc452b22"
      },
      "execution_count": 19,
      "outputs": [
        {
          "output_type": "stream",
          "name": "stdout",
          "text": [
            "               title_field  year  value\n",
            "2   Occupied Housing Units  2014  46295\n",
            "19    Vacant Housing Units  2008   4483\n"
          ]
        }
      ]
    },
    {
      "cell_type": "code",
      "source": [
        "print('Harmonic mean  is {0}'.format(statistics.harmonic_mean(total_list)))"
      ],
      "metadata": {
        "colab": {
          "base_uri": "https://localhost:8080/"
        },
        "id": "ZuNd58NYRh0f",
        "outputId": "1b33dc0f-b977-4972-ec7e-83da794d98b3"
      },
      "execution_count": 21,
      "outputs": [
        {
          "output_type": "stream",
          "name": "stdout",
          "text": [
            "Harmonic mean  is 44398.28543969185\n"
          ]
        }
      ]
    },
    {
      "cell_type": "code",
      "source": [],
      "metadata": {
        "id": "MkC0D9ihRohu"
      },
      "execution_count": null,
      "outputs": []
    }
  ],
  "metadata": {
    "colab": {
      "collapsed_sections": [],
      "provenance": []
    },
    "kernelspec": {
      "display_name": "Python 3 (ipykernel)",
      "language": "python",
      "name": "python3"
    },
    "language_info": {
      "codemirror_mode": {
        "name": "ipython",
        "version": 3
      },
      "file_extension": ".py",
      "mimetype": "text/x-python",
      "name": "python",
      "nbconvert_exporter": "python",
      "pygments_lexer": "ipython3",
      "version": "3.9.12"
    }
  },
  "nbformat": 4,
  "nbformat_minor": 0
}